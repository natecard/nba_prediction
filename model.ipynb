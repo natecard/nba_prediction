{
 "cells": [
  {
   "cell_type": "code",
   "execution_count": null,
   "metadata": {},
   "outputs": [],
   "source": [
    "import pandas as pd\n",
    "import numpy as np\n",
    "pd.set_option('display.width', 1000)  # adjust the value as needed\n",
    "games_df = pd.read_csv('./data/games.csv', low_memory=False)\n",
    "games_details_df = pd.read_csv('./data/games_details.csv', low_memory=False)\n",
    "# players_df = pd.read_csv('./data/players.csv')\n",
    "# ranking_df = pd.read_csv('./data/ranking.csv')\n",
    "# teams_df = pd.read_csv('./data/teams.csv')"
   ]
  },
  {
   "cell_type": "code",
   "execution_count": null,
   "metadata": {},
   "outputs": [],
   "source": [
    "games_df = games_df.drop(columns=['GAME_STATUS_TEXT'])\n",
    "print(games_df.sample(20))"
   ]
  },
  {
   "cell_type": "code",
   "execution_count": null,
   "metadata": {},
   "outputs": [],
   "source": [
    "# Create margin of victory column\n",
    "games_df[\"MOV\"] = games_df[\"PTS_home\"] - games_df[\"PTS_away\"]\n",
    "close_games = games_df[(games_df[\"MOV\"] > -5) & (games_df[\"MOV\"] < 5)]\n",
    "print('Number of close games:', close_games.shape[0])\n",
    "\n",
    "close_game_prob = close_games[\"MOV\"].mean()*100\n",
    "print('Probability of a close game:', close_game_prob)\n"
   ]
  },
  {
   "cell_type": "code",
   "execution_count": null,
   "metadata": {},
   "outputs": [],
   "source": [
    "# Create high scoring game column\n",
    "games_df[\"total_score\"] = games_df[\"PTS_home\"] + games_df[\"PTS_away\"]\n",
    "high_scoring_games = games_df[games_df[\"total_score\"] > 220]\n",
    "print('Number of high scoring games:', high_scoring_games.shape[0])\n",
    "\n",
    "high_scoring_game_prob = len(high_scoring_games) / len(games_df)*100\n",
    "print('Probability of a high scoring game:', high_scoring_game_prob)"
   ]
  },
  {
   "cell_type": "markdown",
   "metadata": {},
   "source": [
    "Below is a rough outline of the final recommender system that I will be building in this notebook. It takes in the schedule for upcoming games, and outputs the recommended games that will be the closest and most exciting to watch based on the historical data from NBA games."
   ]
  },
  {
   "cell_type": "code",
   "execution_count": null,
   "metadata": {},
   "outputs": [],
   "source": [
    "# from sklearn.neighbors import NearestNeighbors\n",
    "# from sklearn.metrics import f1_score\n",
    "\n",
    "# # Load the trained model\n",
    "# model = NearestNeighbors(n_neighbors=5, metric='cosine')\n",
    "# model.load('nba_game_recommender.pkl')\n",
    "\n",
    "# # Load the schedule for the upcoming night's games\n",
    "# schedule = pd.read_csv('nba_schedule.csv')\n",
    "\n",
    "# # Extract relevant features for each game\n",
    "# features = []\n",
    "# for index, row in schedule.iterrows():\n",
    "#     game_id = row['Game_ID']\n",
    "#     home_team = row['Home_Team']\n",
    "#     away_team = row['Away_Team']\n",
    "#     # Extract features from historical data\n",
    "#     feature_vector = get_features(game_id, home_team, away_team)\n",
    "#     features.append(feature_vector)\n",
    "\n",
    "# # Use the model to predict the most exciting game(s) to watch\n",
    "# distances, indices = model.kneighbors(features)\n",
    "# recommended_games = []\n",
    "# for i, dist in enumerate(distances):\n",
    "#     if dist < 0.5:  # Arbitrarily set a threshold"
   ]
  }
 ],
 "metadata": {
  "kernelspec": {
   "display_name": "base",
   "language": "python",
   "name": "python3"
  },
  "language_info": {
   "codemirror_mode": {
    "name": "ipython",
    "version": 3
   },
   "file_extension": ".py",
   "mimetype": "text/x-python",
   "name": "python",
   "nbconvert_exporter": "python",
   "pygments_lexer": "ipython3",
   "version": "3.10.9"
  }
 },
 "nbformat": 4,
 "nbformat_minor": 2
}
