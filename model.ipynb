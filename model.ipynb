{
 "cells": [
  {
   "cell_type": "code",
   "execution_count": 3,
   "metadata": {},
   "outputs": [],
   "source": [
    "import numpy as np\n",
    "import pandas as pd\n",
    "import matplotlib.pyplot as plt\n",
    "import seaborn as sns\n",
    "\n",
    "games_df = pd.read_csv('./data/games.csv')\n",
    "games_details_df = pd.read_csv('./data/games_details.csv')\n",
    "# players_df = pd.read_csv('./data/players.csv')\n",
    "# ranking_df = pd.read_csv('./data/ranking.csv')\n",
    "# teams_df = pd.read_csv('./data/teams.csv')"
   ]
  },
  {
   "cell_type": "code",
   "execution_count": 4,
   "metadata": {},
   "outputs": [
    {
     "name": "stdout",
     "output_type": "stream",
     "text": [
      "  GAME_DATE_EST   GAME_ID GAME_STATUS_TEXT  HOME_TEAM_ID  VISITOR_TEAM_ID  \\\n",
      "0    2022-12-22  22200477            Final    1610612740       1610612759   \n",
      "1    2022-12-22  22200478            Final    1610612762       1610612764   \n",
      "2    2022-12-21  22200466            Final    1610612739       1610612749   \n",
      "3    2022-12-21  22200467            Final    1610612755       1610612765   \n",
      "4    2022-12-21  22200468            Final    1610612737       1610612741   \n",
      "\n",
      "   SEASON  TEAM_ID_home  PTS_home  FG_PCT_home  FT_PCT_home  ...  AST_home  \\\n",
      "0    2022    1610612740     126.0        0.484        0.926  ...      25.0   \n",
      "1    2022    1610612762     120.0        0.488        0.952  ...      16.0   \n",
      "2    2022    1610612739     114.0        0.482        0.786  ...      22.0   \n",
      "3    2022    1610612755     113.0        0.441        0.909  ...      27.0   \n",
      "4    2022    1610612737     108.0        0.429        1.000  ...      22.0   \n",
      "\n",
      "   REB_home  TEAM_ID_away  PTS_away  FG_PCT_away  FT_PCT_away  FG3_PCT_away  \\\n",
      "0      46.0    1610612759     117.0        0.478        0.815         0.321   \n",
      "1      40.0    1610612764     112.0        0.561        0.765         0.333   \n",
      "2      37.0    1610612749     106.0        0.470        0.682         0.433   \n",
      "3      49.0    1610612765      93.0        0.392        0.735         0.261   \n",
      "4      47.0    1610612741     110.0        0.500        0.773         0.292   \n",
      "\n",
      "   AST_away  REB_away  HOME_TEAM_WINS  \n",
      "0      23.0      44.0               1  \n",
      "1      20.0      37.0               1  \n",
      "2      20.0      46.0               1  \n",
      "3      15.0      46.0               1  \n",
      "4      20.0      47.0               0  \n",
      "\n",
      "[5 rows x 21 columns]\n"
     ]
    }
   ],
   "source": [
    "print(games_df.head())\n",
    "print(games_details_df.head())"
   ]
  }
 ],
 "metadata": {
  "kernelspec": {
   "display_name": "base",
   "language": "python",
   "name": "python3"
  },
  "language_info": {
   "codemirror_mode": {
    "name": "ipython",
    "version": 3
   },
   "file_extension": ".py",
   "mimetype": "text/x-python",
   "name": "python",
   "nbconvert_exporter": "python",
   "pygments_lexer": "ipython3",
   "version": "3.10.9"
  }
 },
 "nbformat": 4,
 "nbformat_minor": 2
}
