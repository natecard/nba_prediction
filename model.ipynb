{
 "cells": [
  {
   "cell_type": "code",
   "execution_count": 12,
   "metadata": {},
   "outputs": [],
   "source": [
    "import pandas as pd\n",
    "import numpy as np\n",
    "pd.set_option('display.width', 1000)  # adjust the value as needed\n",
    "games_df = pd.read_csv('./data/games.csv', low_memory=False)\n",
    "games_details_df = pd.read_csv('./data/games_details.csv', low_memory=False)\n",
    "# players_df = pd.read_csv('./data/players.csv')\n",
    "# ranking_df = pd.read_csv('./data/ranking.csv')\n",
    "# teams_df = pd.read_csv('./data/teams.csv')"
   ]
  },
  {
   "cell_type": "code",
   "execution_count": 13,
   "metadata": {},
   "outputs": [
    {
     "name": "stdout",
     "output_type": "stream",
     "text": [
      "    GAME_ID     TEAM_ID TEAM_ABBREVIATION    TEAM_CITY  PLAYER_ID     PLAYER_NAME NICKNAME START_POSITION COMMENT    MIN  ...  OREB  DREB  REB  AST  STL  BLK   TO   PF   PTS  PLUS_MINUS\n",
      "0  22200477  1610612759               SAS  San Antonio    1629641  Romeo Langford    Romeo              F     NaN  18:06  ...   1.0   1.0  2.0  0.0  1.0  0.0  2.0  5.0   2.0        -2.0\n",
      "1  22200477  1610612759               SAS  San Antonio    1631110   Jeremy Sochan   Jeremy              F     NaN  31:01  ...   6.0   3.0  9.0  6.0  1.0  0.0  2.0  1.0  23.0       -14.0\n",
      "2  22200477  1610612759               SAS  San Antonio    1627751    Jakob Poeltl    Jakob              C     NaN  21:42  ...   1.0   3.0  4.0  1.0  1.0  0.0  2.0  4.0  13.0        -4.0\n",
      "3  22200477  1610612759               SAS  San Antonio    1630170   Devin Vassell    Devin              G     NaN  30:20  ...   0.0   9.0  9.0  5.0  3.0  0.0  2.0  1.0  10.0       -18.0\n",
      "4  22200477  1610612759               SAS  San Antonio    1630200       Tre Jones      Tre              G     NaN  27:44  ...   0.0   2.0  2.0  3.0  0.0  0.0  2.0  2.0  19.0         0.0\n",
      "\n",
      "[5 rows x 29 columns]\n",
      "  GAME_DATE_EST   GAME_ID GAME_STATUS_TEXT  HOME_TEAM_ID  VISITOR_TEAM_ID  SEASON  TEAM_ID_home  PTS_home  FG_PCT_home  FT_PCT_home  ...  AST_home  REB_home  TEAM_ID_away  PTS_away  FG_PCT_away  FT_PCT_away  FG3_PCT_away  AST_away  REB_away  HOME_TEAM_WINS\n",
      "0    2022-12-22  22200477            Final    1610612740       1610612759    2022    1610612740     126.0        0.484        0.926  ...      25.0      46.0    1610612759     117.0        0.478        0.815         0.321      23.0      44.0               1\n",
      "1    2022-12-22  22200478            Final    1610612762       1610612764    2022    1610612762     120.0        0.488        0.952  ...      16.0      40.0    1610612764     112.0        0.561        0.765         0.333      20.0      37.0               1\n",
      "2    2022-12-21  22200466            Final    1610612739       1610612749    2022    1610612739     114.0        0.482        0.786  ...      22.0      37.0    1610612749     106.0        0.470        0.682         0.433      20.0      46.0               1\n",
      "3    2022-12-21  22200467            Final    1610612755       1610612765    2022    1610612755     113.0        0.441        0.909  ...      27.0      49.0    1610612765      93.0        0.392        0.735         0.261      15.0      46.0               1\n",
      "4    2022-12-21  22200468            Final    1610612737       1610612741    2022    1610612737     108.0        0.429        1.000  ...      22.0      47.0    1610612741     110.0        0.500        0.773         0.292      20.0      47.0               0\n",
      "\n",
      "[5 rows x 21 columns]\n"
     ]
    }
   ],
   "source": [
    "print(games_details_df.head())\n",
    "print(games_df.head())"
   ]
  },
  {
   "cell_type": "code",
   "execution_count": 21,
   "metadata": {},
   "outputs": [
    {
     "name": "stdout",
     "output_type": "stream",
     "text": [
      "Number of close games: 14816\n"
     ]
    }
   ],
   "source": [
    "# Create margin of victory column\n",
    "games_df[\"MOV\"] = games_df[\"PTS_home\"] - games_df[\"PTS_away\"]\n",
    "close_games = games_df[\"MOV\"].abs() <=5\n",
    "print('Number of close games:', close_games.sum())\n",
    "\n"
   ]
  },
  {
   "cell_type": "markdown",
   "metadata": {},
   "source": [
    "Below is a rough outline of the final recommender system that I will be building in this notebook. It takes in the schedule for upcoming games, and outputs the recommended games that will be the closest and most exciting to watch based on the historical data from NBA games."
   ]
  },
  {
   "cell_type": "code",
   "execution_count": 6,
   "metadata": {},
   "outputs": [
    {
     "name": "stdout",
     "output_type": "stream",
     "text": [
      "    GAME_ID     TEAM_ID TEAM_ABBREVIATION    TEAM_CITY  PLAYER_ID  \\\n",
      "0  22200477  1610612759               SAS  San Antonio    1629641   \n",
      "1  22200477  1610612759               SAS  San Antonio    1631110   \n",
      "2  22200477  1610612759               SAS  San Antonio    1627751   \n",
      "3  22200477  1610612759               SAS  San Antonio    1630170   \n",
      "4  22200477  1610612759               SAS  San Antonio    1630200   \n",
      "\n",
      "      PLAYER_NAME NICKNAME START_POSITION COMMENT    MIN  ...  OREB  DREB  \\\n",
      "0  Romeo Langford    Romeo              F     NaN  18:06  ...   1.0   1.0   \n",
      "1   Jeremy Sochan   Jeremy              F     NaN  31:01  ...   6.0   3.0   \n",
      "2    Jakob Poeltl    Jakob              C     NaN  21:42  ...   1.0   3.0   \n",
      "3   Devin Vassell    Devin              G     NaN  30:20  ...   0.0   9.0   \n",
      "4       Tre Jones      Tre              G     NaN  27:44  ...   0.0   2.0   \n",
      "\n",
      "   REB  AST  STL  BLK   TO   PF   PTS  PLUS_MINUS  \n",
      "0  2.0  0.0  1.0  0.0  2.0  5.0   2.0        -2.0  \n",
      "1  9.0  6.0  1.0  0.0  2.0  1.0  23.0       -14.0  \n",
      "2  4.0  1.0  1.0  0.0  2.0  4.0  13.0        -4.0  \n",
      "3  9.0  5.0  3.0  0.0  2.0  1.0  10.0       -18.0  \n",
      "4  2.0  3.0  0.0  0.0  2.0  2.0  19.0         0.0  \n",
      "\n",
      "[5 rows x 29 columns]\n"
     ]
    }
   ],
   "source": [
    "from sklearn.neighbors import NearestNeighbors\n",
    "from sklearn.metrics import f1_score\n",
    "\n",
    "# Load the trained model\n",
    "model = NearestNeighbors(n_neighbors=5, metric='cosine')\n",
    "model.load('nba_game_recommender.pkl')\n",
    "\n",
    "# Load the schedule for the upcoming night's games\n",
    "schedule = pd.read_csv('nba_schedule.csv')\n",
    "\n",
    "# Extract relevant features for each game\n",
    "features = []\n",
    "for index, row in schedule.iterrows():\n",
    "    game_id = row['Game_ID']\n",
    "    home_team = row['Home_Team']\n",
    "    away_team = row['Away_Team']\n",
    "    # Extract features from historical data\n",
    "    feature_vector = get_features(game_id, home_team, away_team)\n",
    "    features.append(feature_vector)\n",
    "\n",
    "# Use the model to predict the most exciting game(s) to watch\n",
    "distances, indices = model.kneighbors(features)\n",
    "recommended_games = []\n",
    "for i, dist in enumerate(distances):\n",
    "    if dist < 0.5:  # Arbitrarily set a threshold"
   ]
  }
 ],
 "metadata": {
  "kernelspec": {
   "display_name": "base",
   "language": "python",
   "name": "python3"
  },
  "language_info": {
   "codemirror_mode": {
    "name": "ipython",
    "version": 3
   },
   "file_extension": ".py",
   "mimetype": "text/x-python",
   "name": "python",
   "nbconvert_exporter": "python",
   "pygments_lexer": "ipython3",
   "version": "3.10.9"
  }
 },
 "nbformat": 4,
 "nbformat_minor": 2
}
